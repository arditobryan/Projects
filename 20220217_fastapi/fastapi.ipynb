{
 "cells": [
  {
   "cell_type": "code",
   "execution_count": 26,
   "metadata": {},
   "outputs": [
    {
     "name": "stdout",
     "output_type": "stream",
     "text": [
      "200\n",
      "200\n",
      "200\n"
     ]
    }
   ],
   "source": [
    "import requests\n",
    "\n",
    "for a in range(3):\n",
    "    print(requests.post('http://127.0.0.1:3000/items/', params={'num': '100'}).text)"
   ]
  },
  {
   "cell_type": "code",
   "execution_count": 4,
   "metadata": {},
   "outputs": [
    {
     "data": {
      "text/plain": [
       "'{\"message\":\"100\"}'"
      ]
     },
     "execution_count": 4,
     "metadata": {},
     "output_type": "execute_result"
    }
   ],
   "source": [
    "import requests\n",
    "\n",
    "headers = {\n",
    "    'accept': 'application/json',\n",
    "    'content-type': 'application/x-www-form-urlencoded',\n",
    "}\n",
    "\n",
    "params = {\n",
    "    'num': '100',\n",
    "}\n",
    "\n",
    "response = requests.post('http://127.0.0.1:3000/num', headers=headers, json=params)\n",
    "response.text"
   ]
  },
  {
   "cell_type": "code",
   "execution_count": 51,
   "metadata": {},
   "outputs": [
    {
     "name": "stdout",
     "output_type": "stream",
     "text": [
      "{\"1\":\"15\",\"2\":\"100\",\"3\":\"80\"}\n",
      "160200\n",
      "30\n",
      "\n"
     ]
    }
   ],
   "source": [
    "import threading\n",
    "import time\n",
    "\n",
    "def thread_1_foo(val):\n",
    "    print(requests.post('http://127.0.0.1:3000/items/', params={'num': str(val)}).text)\n",
    "\n",
    "def current():\n",
    "    print(requests.get('http://127.0.0.1:3000/current/').text)\n",
    "\n",
    "#creating threads\n",
    "#thread_1 = threading.Thread(target=thread_1_foo, args=(100,))\n",
    "\n",
    "#thread_1.start()\n",
    "threading.Thread(target=thread_1_foo, args=(15,)).start()\n",
    "threading.Thread(target=thread_1_foo, args=(100,)).start()\n",
    "threading.Thread(target=thread_1_foo, args=(80,)).start()\n",
    "\n",
    "time.sleep(0.1)\n",
    "threading.Thread(target=current).start()"
   ]
  }
 ],
 "metadata": {
  "kernelspec": {
   "display_name": "Python 3.9.0 64-bit",
   "language": "python",
   "name": "python3"
  },
  "language_info": {
   "codemirror_mode": {
    "name": "ipython",
    "version": 3
   },
   "file_extension": ".py",
   "mimetype": "text/x-python",
   "name": "python",
   "nbconvert_exporter": "python",
   "pygments_lexer": "ipython3",
   "version": "3.9.0"
  },
  "orig_nbformat": 4,
  "vscode": {
   "interpreter": {
    "hash": "fdf377d643bc1cb065454f0ad2ceac75d834452ecf289e7ba92c6b3f59a7cee1"
   }
  }
 },
 "nbformat": 4,
 "nbformat_minor": 2
}
