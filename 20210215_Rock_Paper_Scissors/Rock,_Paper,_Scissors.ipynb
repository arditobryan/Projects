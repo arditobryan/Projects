{
  "nbformat": 4,
  "nbformat_minor": 0,
  "metadata": {
    "colab": {
      "name": "Rock, Paper, Scissors.ipynb",
      "private_outputs": true,
      "provenance": [],
      "collapsed_sections": []
    },
    "kernelspec": {
      "name": "python3",
      "display_name": "Python 3"
    }
  },
  "cells": [
    {
      "cell_type": "code",
      "metadata": {
        "id": "dGnOzeUCHueP"
      },
      "source": [
        "import itertools\n",
        "import pandas as pd\n",
        "import numpy as np\n",
        "\n",
        "#permutation with repetitions\n",
        "df = pd.DataFrame([p for p in itertools.product(['Rock', 'Paper', 'Scissor'], repeat=2)])\n",
        "df"
      ],
      "execution_count": null,
      "outputs": []
    },
    {
      "cell_type": "code",
      "metadata": {
        "id": "2cLZM02XNfNx"
      },
      "source": [
        "#add results after index based encoding\n",
        "df['result'] = ['0', '-1', '1', '1', '0', '-1', '-1', '1', '0']"
      ],
      "execution_count": null,
      "outputs": []
    },
    {
      "cell_type": "code",
      "metadata": {
        "id": "o8rm5kNvMA55"
      },
      "source": [
        "#perform one_hot on players (otherwise the data is interpreted as sequential)\n",
        "from sklearn.preprocessing import OneHotEncoder\n",
        "\n",
        "def one_hot(df, partitions):\n",
        "  #togliamo le colonne da X\n",
        "  for col in partitions:\n",
        "    k = df.pop(col)\n",
        "    k = pd.get_dummies(k, prefix=col)\n",
        "    df = pd.concat([df, k] , axis=1)\n",
        "  return df\n",
        "\n",
        "df = one_hot(df, df.columns[:-1])\n",
        "df"
      ],
      "execution_count": null,
      "outputs": []
    },
    {
      "cell_type": "code",
      "metadata": {
        "id": "rMY0ggQCNWH9"
      },
      "source": [
        "#extract features\n",
        "X = df[df.columns[1:7]]\n",
        "X"
      ],
      "execution_count": null,
      "outputs": []
    },
    {
      "cell_type": "code",
      "metadata": {
        "id": "4xT9dSKUOH-i"
      },
      "source": [
        "#extract labels\n",
        "y = df[df.columns[0]]\n",
        "y"
      ],
      "execution_count": null,
      "outputs": []
    },
    {
      "cell_type": "code",
      "metadata": {
        "id": "9-5JXt6fNUAq"
      },
      "source": [
        "#classification model\n",
        "from sklearn import svm\n",
        "\n",
        "clf = svm.SVC(probability=True)\n",
        "clf.fit(X, y)"
      ],
      "execution_count": null,
      "outputs": []
    },
    {
      "cell_type": "code",
      "metadata": {
        "id": "ijfVvib3Osfi"
      },
      "source": [
        "#predict output\n",
        "#0_Paper\t0_Rock\t0_Scissor\t1_Paper\t1_Rock\t1_Scissor\n",
        "clf.predict([[0, 1, 0, 0, 1, 0]])"
      ],
      "execution_count": null,
      "outputs": []
    },
    {
      "cell_type": "code",
      "metadata": {
        "id": "XCKUXFZvbhT6"
      },
      "source": [
        "clf.predict_proba([[0, 1, 0, 0, 1, 0]])"
      ],
      "execution_count": null,
      "outputs": []
    }
  ]
}