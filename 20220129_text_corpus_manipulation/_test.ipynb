{
 "cells": [
  {
   "cell_type": "code",
   "execution_count": 2,
   "metadata": {},
   "outputs": [],
   "source": [
    "with open('readme.md') as file:\n",
    "    text = file.read().split('\\n')\n",
    "text_old = text"
   ]
  },
  {
   "cell_type": "code",
   "execution_count": 3,
   "metadata": {},
   "outputs": [
    {
     "data": {
      "text/plain": [
       "['This is the first sentence',\n",
       " 'This is the second sentence',\n",
       " 'From here @@@word1 now @@@word2',\n",
       " 'This is the third sentence',\n",
       " 'This is the fourth sentence']"
      ]
     },
     "execution_count": 3,
     "metadata": {},
     "output_type": "execute_result"
    }
   ],
   "source": [
    "str1 = \"\"\"\n",
    "This is the first sentence\n",
    "This is the second sentence\n",
    "From here @@@word1 now @@@word2\n",
    "This is the third sentence\n",
    "This is the fourth sentence\n",
    "\"\"\"\n",
    "text = str1.split('\\n')[1:-1]\n",
    "text"
   ]
  },
  {
   "cell_type": "code",
   "execution_count": 5,
   "metadata": {},
   "outputs": [
    {
     "data": {
      "text/plain": [
       "['This is the first sentence',\n",
       " 'This is the second sentence',\n",
       " 'From here DeadPool now Wolverine',\n",
       " 'swords',\n",
       " '',\n",
       " '',\n",
       " '',\n",
       " '',\n",
       " '',\n",
       " 'claws',\n",
       " '',\n",
       " 'm',\n",
       " 'This is the third sentence',\n",
       " 'This is the fourth sentence']"
      ]
     },
     "execution_count": 5,
     "metadata": {},
     "output_type": "execute_result"
    }
   ],
   "source": [
    "import itertools\n",
    "\n",
    "def replace_text(text_old, replace_dict):\n",
    "    #inefficient, as I have to recreate the entire list\n",
    "    #but readable corpus are very very small\n",
    "    text_new = list()\n",
    "    for sentence in text_old:\n",
    "        list1 = list()\n",
    "        for word in sentence.split(' '):\n",
    "            if word in replace_dict.keys():\n",
    "                key = word\n",
    "                sentence = sentence.replace(key, replace_dict[key][0])\n",
    "                for new_line in replace_dict[key][1:]:\n",
    "                    list1.append(new_line)\n",
    "        list1 = [sentence]+list1\n",
    "                \n",
    "        if len(list1) != 0: \n",
    "            text_new.append(list1)\n",
    "        else:\n",
    "            text_new.append(sentence)\n",
    "    text_new = list(itertools.chain(*text_new))\n",
    "    return text_new\n",
    "\n",
    "#index 0 of value is replaced in text, all the following indexes become new lines\n",
    "replace_dict = {'@@@word1': ['DeadPool', 'swords']+['']*5, '@@@word2': ['Wolverine', 'claws', '', 'm']}\n",
    "text_new = replace_text(text, replace_dict)\n",
    "text_new"
   ]
  },
  {
   "cell_type": "code",
   "execution_count": 23,
   "metadata": {},
   "outputs": [
    {
     "data": {
      "text/plain": [
       "['@@@df_sentiment', '@@@df']"
      ]
     },
     "execution_count": 23,
     "metadata": {},
     "output_type": "execute_result"
    }
   ],
   "source": []
  },
  {
   "cell_type": "code",
   "execution_count": 24,
   "metadata": {},
   "outputs": [
    {
     "name": "stdout",
     "output_type": "stream",
     "text": [
      "@@@df_sentiment\n",
      "@@@df\n"
     ]
    },
    {
     "data": {
      "text/plain": [
       "'today is a wonderful night'"
      ]
     },
     "execution_count": 24,
     "metadata": {},
     "output_type": "execute_result"
    }
   ],
   "source": [
    "replace_dict = {'@@@df':'day', '@@@df_sentiment':'night' }\n",
    "sample = 'today is a wonderful @@@df_sentiment'\n",
    "\n",
    "for cell in cells:\n",
    "    for k in sorted(list(replace_dict.keys()))[::-1]:\n",
    "        print(k)\n",
    "        if sample.find(k) != -1:\n",
    "            sample = sample.replace(k, replace_dict[k])\n",
    "    sample"
   ]
  },
  {
   "cell_type": "code",
   "execution_count": 26,
   "metadata": {},
   "outputs": [],
   "source": [
    "import json\n",
    "\n",
    "with open('output.json', 'w') as file:\n",
    "    json.dump(replace_dict, file)"
   ]
  },
  {
   "cell_type": "code",
   "execution_count": 27,
   "metadata": {},
   "outputs": [
    {
     "data": {
      "text/plain": [
       "'a\\nb\\nc'"
      ]
     },
     "execution_count": 27,
     "metadata": {},
     "output_type": "execute_result"
    }
   ],
   "source": [
    "with open('a.txt') as file:\n",
    "    text = file.read()\n",
    "text"
   ]
  }
 ],
 "metadata": {
  "interpreter": {
   "hash": "75a300ae82dd7b8f387c1777b66b2ec8c7a5f6d51d6392630ee9b10fab7f95f8"
  },
  "kernelspec": {
   "display_name": "Python 3.9.0 64-bit",
   "language": "python",
   "name": "python3"
  },
  "language_info": {
   "codemirror_mode": {
    "name": "ipython",
    "version": 3
   },
   "file_extension": ".py",
   "mimetype": "text/x-python",
   "name": "python",
   "nbconvert_exporter": "python",
   "pygments_lexer": "ipython3",
   "version": "3.9.0"
  },
  "orig_nbformat": 4
 },
 "nbformat": 4,
 "nbformat_minor": 2
}
